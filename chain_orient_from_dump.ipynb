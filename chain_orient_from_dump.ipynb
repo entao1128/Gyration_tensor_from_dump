{
 "cells": [
  {
   "cell_type": "code",
   "execution_count": 35,
   "id": "66d43333",
   "metadata": {},
   "outputs": [],
   "source": [
    "import MD_IO_tool as tool"
   ]
  },
  {
   "cell_type": "code",
   "execution_count": 33,
   "id": "07a51153",
   "metadata": {},
   "outputs": [],
   "source": [
    "r_pos, chl, num_chain, boxh = tool.read_dump('dump.lammpstrj', 40)"
   ]
  },
  {
   "cell_type": "code",
   "execution_count": 36,
   "id": "11cde466",
   "metadata": {},
   "outputs": [],
   "source": [
    "import numpy.linalg as la\n",
    "import chain_orientation as orient\n",
    "import numpy as np"
   ]
  },
  {
   "cell_type": "code",
   "execution_count": 37,
   "id": "77306bde",
   "metadata": {},
   "outputs": [
    {
     "name": "stdout",
     "output_type": "stream",
     "text": [
      "(8, 40, 5)\n",
      "(35, 40, 5)\n",
      "(11, 40, 5)\n",
      "(34, 40, 5)\n",
      "(10, 40, 5)\n",
      "(38, 40, 5)\n",
      "(14, 40, 5)\n",
      "(34, 40, 5)\n",
      "(14, 40, 5)\n",
      "(35, 40, 5)\n",
      "(17, 40, 5)\n",
      "(33, 40, 5)\n",
      "(20, 40, 5)\n",
      "(30, 40, 5)\n",
      "(22, 40, 5)\n",
      "(27, 40, 5)\n",
      "(22, 40, 5)\n",
      "(28, 40, 5)\n",
      "(22, 40, 5)\n",
      "(32, 40, 5)\n",
      "(24, 40, 5)\n",
      "(31, 40, 5)\n",
      "(26, 40, 5)\n",
      "(31, 40, 5)\n",
      "(29, 40, 5)\n",
      "(26, 40, 5)\n",
      "(28, 40, 5)\n",
      "(30, 40, 5)\n",
      "(27, 40, 5)\n",
      "(32, 40, 5)\n",
      "(29, 40, 5)\n",
      "(29, 40, 5)\n",
      "(33, 40, 5)\n",
      "(23, 40, 5)\n",
      "(29, 40, 5)\n",
      "(31, 40, 5)\n",
      "(29, 40, 5)\n",
      "(30, 40, 5)\n",
      "(29, 40, 5)\n",
      "(28, 40, 5)\n",
      "(31, 40, 5)\n",
      "(27, 40, 5)\n",
      "(31, 40, 5)\n",
      "(26, 40, 5)\n",
      "(29, 40, 5)\n",
      "(29, 40, 5)\n",
      "(26, 40, 5)\n",
      "(32, 40, 5)\n",
      "(26, 40, 5)\n",
      "(30, 40, 5)\n",
      "(26, 40, 5)\n",
      "(31, 40, 5)\n",
      "(30, 40, 5)\n",
      "(28, 40, 5)\n",
      "(30, 40, 5)\n",
      "(25, 40, 5)\n",
      "(29, 40, 5)\n",
      "(28, 40, 5)\n",
      "(27, 40, 5)\n",
      "(30, 40, 5)\n",
      "(27, 40, 5)\n",
      "(30, 40, 5)\n",
      "(29, 40, 5)\n",
      "(28, 40, 5)\n",
      "(26, 40, 5)\n",
      "(32, 40, 5)\n",
      "(28, 40, 5)\n",
      "(25, 40, 5)\n",
      "(29, 40, 5)\n",
      "(25, 40, 5)\n",
      "(31, 40, 5)\n",
      "(22, 40, 5)\n",
      "(30, 40, 5)\n",
      "(20, 40, 5)\n",
      "(29, 40, 5)\n",
      "(24, 40, 5)\n",
      "(33, 40, 5)\n",
      "(25, 40, 5)\n",
      "(32, 40, 5)\n",
      "(29, 40, 5)\n"
     ]
    }
   ],
   "source": [
    "for i in range(40):\n",
    "    n_bound, n_bulk, bound_Rg2, bulk_Rg2, bound_para, bulk_para, bound_orient, bulk_orient, bound_eigvals, bulk_eigvals = orient.orientation_analysis(r_pos[i, :, :], 2.5, 6.0, boxh[0])\n",
    "    #data = orient.orientation_analysis(r_pos[0, :, :], 2.5, 6.0, boxh[0])\n",
    "    with open(\"dump_basic.data\", \"a+\") as otp1:\n",
    "        otp1.write(\"%d %d %lf %lf\\n\" %(n_bound, n_bulk, np.mean(np.sqrt(bound_Rg2)), np.mean(np.sqrt(bulk_Rg2))))\n",
    "    with open(\"dump_para.data\", \"a+\") as otp2:\n",
    "        otp2.write(\"%lf %lf %lf %lf %lf %lf\\n\" %(np.mean(bound_para[:, 0]), np.mean(bound_para[:, 1]), np.mean(bound_para[:, 2]), np.mean(bulk_para[:, 0]), np.mean(bulk_para[:, 1]), np.mean(bulk_para[:, 2])))\n",
    "    with open(\"dump_orient.data\", \"a+\") as otp3:\n",
    "        otp3.write(\"%lf %lf %lf %lf %lf %lf\\n\" %(bound_orient[0], bound_orient[1], bound_orient[2], bulk_orient[0], bulk_orient[1], bulk_orient[2]))\n",
    "    with open(\"dump_eigen.data\", \"a+\") as otp4:\n",
    "        otp4.write(\"%lf %lf %lf %lf %lf %lf\\n\" %(np.mean(bound_eigvals[:, 0]), np.mean(bound_eigvals[:, 1]), np.mean(bound_eigvals[:, 2]), np.mean(bulk_eigvals[0]), np.mean(bulk_eigvals[1]), np.mean(bulk_eigvals[2])))\n",
    "    #print (n_bound)\n",
    "    #print (n_bulk)\n",
    "    #print (np.mean(bound_Rg2))\n",
    "    #print (np.mean(bulk_Rg2))\n",
    "    #print (np.mean(bound_para[:, 0]), np.mean(bound_para[:, 1]), np.mean(bound_para[:, 2]))\n",
    "    #print (np.mean(bulk_para[:, 0]), np.mean(bulk_para[:, 1]), np.mean(bulk_para[:, 2]))\n",
    "    #print (bound_orient[0], bound_orient[1], bound_orient[2])\n",
    "    #print (bulk_orient[0], bulk_orient[1], bulk_orient[2])"
   ]
  },
  {
   "cell_type": "code",
   "execution_count": 38,
   "id": "3122df52",
   "metadata": {},
   "outputs": [],
   "source": [
    "basic = np.loadtxt(\"./dump_basic.data\")\n",
    "para = np.loadtxt(\"./dump_para.data\")\n",
    "orient = np.loadtxt(\"./dump_orient.data\")\n",
    "eigen = np.loadtxt(\"./dump_eigen.data\")"
   ]
  },
  {
   "cell_type": "code",
   "execution_count": 25,
   "id": "6b104337",
   "metadata": {
    "scrolled": true
   },
   "outputs": [
    {
     "data": {
      "text/plain": [
       "array([[ 8.      , 35.      ,  3.651519,  3.54701 ],\n",
       "       [11.      , 34.      ,  3.545922,  3.546311],\n",
       "       [10.      , 38.      ,  3.638325,  3.498772],\n",
       "       [14.      , 34.      ,  3.564923,  3.493096],\n",
       "       [14.      , 35.      ,  3.396962,  3.427865],\n",
       "       [17.      , 33.      ,  3.266383,  3.365707],\n",
       "       [20.      , 30.      ,  3.633989,  3.584017],\n",
       "       [22.      , 27.      ,  3.829356,  3.448796],\n",
       "       [22.      , 28.      ,  3.554394,  3.50737 ],\n",
       "       [22.      , 32.      ,  3.528703,  3.65955 ],\n",
       "       [24.      , 31.      ,  3.580878,  3.579287],\n",
       "       [26.      , 31.      ,  3.623935,  3.636138],\n",
       "       [29.      , 26.      ,  3.725495,  3.620136],\n",
       "       [28.      , 30.      ,  3.691049,  3.449517],\n",
       "       [27.      , 32.      ,  3.703541,  3.51908 ],\n",
       "       [29.      , 29.      ,  3.665067,  3.433972],\n",
       "       [33.      , 23.      ,  3.704755,  3.510969],\n",
       "       [29.      , 31.      ,  3.598188,  3.636813],\n",
       "       [29.      , 30.      ,  3.57588 ,  3.722235],\n",
       "       [29.      , 28.      ,  3.460067,  3.691342],\n",
       "       [31.      , 27.      ,  3.497667,  3.562663],\n",
       "       [31.      , 26.      ,  3.694054,  3.487199],\n",
       "       [29.      , 29.      ,  3.611478,  3.629756],\n",
       "       [26.      , 32.      ,  3.576476,  3.700809],\n",
       "       [26.      , 30.      ,  3.473428,  3.697761],\n",
       "       [26.      , 31.      ,  3.529089,  3.537943],\n",
       "       [30.      , 28.      ,  3.512303,  3.362142],\n",
       "       [30.      , 25.      ,  3.549506,  3.228598],\n",
       "       [29.      , 28.      ,  3.589906,  3.239997],\n",
       "       [27.      , 30.      ,  3.593375,  3.392899],\n",
       "       [27.      , 30.      ,  3.740942,  3.431328],\n",
       "       [29.      , 28.      ,  3.69754 ,  3.538676],\n",
       "       [26.      , 32.      ,  3.546204,  3.5093  ],\n",
       "       [28.      , 25.      ,  3.54937 ,  3.4408  ],\n",
       "       [29.      , 25.      ,  3.739491,  3.355825],\n",
       "       [31.      , 22.      ,  3.683798,  3.431649],\n",
       "       [30.      , 20.      ,  3.722531,  3.576552],\n",
       "       [29.      , 24.      ,  3.805268,  3.384883],\n",
       "       [33.      , 25.      ,  3.808022,  3.611828],\n",
       "       [32.      , 29.      ,  3.873105,  3.657444]])"
      ]
     },
     "execution_count": 25,
     "metadata": {},
     "output_type": "execute_result"
    }
   ],
   "source": [
    "basic"
   ]
  },
  {
   "cell_type": "code",
   "execution_count": 40,
   "id": "a3cb2236",
   "metadata": {},
   "outputs": [],
   "source": [
    "import matplotlib.pyplot as plt"
   ]
  },
  {
   "cell_type": "code",
   "execution_count": 45,
   "id": "c854667c",
   "metadata": {
    "scrolled": true
   },
   "outputs": [
    {
     "data": {
      "text/plain": [
       "[<matplotlib.lines.Line2D at 0x7feed9e79df0>]"
      ]
     },
     "execution_count": 45,
     "metadata": {},
     "output_type": "execute_result"
    },
    {
     "data": {
      "image/png": "[encoded data removed]",
      "text/plain": [
       "<Figure size 432x288 with 1 Axes>"
      ]
     },
     "metadata": {
      "needs_background": "light"
     },
     "output_type": "display_data"
    }
   ],
   "source": [
    "plt.plot(basic[:,0])"
   ]
  },
  {
   "cell_type": "code",
   "execution_count": 26,
   "id": "4eaa3dfb",
   "metadata": {
    "scrolled": false
   },
   "outputs": [
    {
     "data": {
      "text/plain": [
       "array([[0.583059, 0.139476, 0.382572, 0.613133, 0.116603, 0.416729],\n",
       "       [0.597179, 0.137013, 0.406707, 0.603693, 0.127674, 0.410921],\n",
       "       [0.712616, 0.071425, 0.532831, 0.57143 , 0.143503, 0.379591],\n",
       "       [0.655206, 0.102749, 0.45534 , 0.550924, 0.155751, 0.361922],\n",
       "       [0.56864 , 0.156651, 0.366435, 0.594065, 0.141126, 0.395124],\n",
       "       [0.533395, 0.151037, 0.344069, 0.581895, 0.114701, 0.385609],\n",
       "       [0.58002 , 0.130451, 0.384802, 0.615662, 0.11727 , 0.425529],\n",
       "       [0.645731, 0.110255, 0.457341, 0.595063, 0.127424, 0.406858],\n",
       "       [0.640539, 0.113061, 0.446894, 0.600105, 0.114136, 0.403779],\n",
       "       [0.570192, 0.152106, 0.366237, 0.62851 , 0.099295, 0.443478],\n",
       "       [0.598963, 0.129597, 0.390498, 0.609394, 0.132523, 0.409465],\n",
       "       [0.614234, 0.131837, 0.421691, 0.624562, 0.119861, 0.433518],\n",
       "       [0.645349, 0.130384, 0.460642, 0.652934, 0.109606, 0.459439],\n",
       "       [0.665983, 0.101431, 0.484173, 0.61205 , 0.103231, 0.41336 ],\n",
       "       [0.640819, 0.122872, 0.45307 , 0.615031, 0.11627 , 0.420051],\n",
       "       [0.593741, 0.150712, 0.411531, 0.57764 , 0.140105, 0.382035],\n",
       "       [0.581775, 0.146279, 0.401721, 0.543904, 0.156217, 0.343032],\n",
       "       [0.586875, 0.132511, 0.396634, 0.632335, 0.12862 , 0.440336],\n",
       "       [0.598426, 0.145964, 0.407653, 0.622659, 0.110327, 0.441608],\n",
       "       [0.586609, 0.125613, 0.381591, 0.614307, 0.133177, 0.422184],\n",
       "       [0.608854, 0.140544, 0.417614, 0.624829, 0.126944, 0.435911],\n",
       "       [0.623306, 0.131293, 0.429324, 0.574107, 0.116213, 0.37953 ],\n",
       "       [0.627311, 0.12794 , 0.437044, 0.645143, 0.105394, 0.448831],\n",
       "       [0.591958, 0.142607, 0.40422 , 0.680703, 0.090124, 0.49508 ],\n",
       "       [0.560982, 0.142268, 0.371223, 0.635815, 0.093384, 0.441912],\n",
       "       [0.59067 , 0.139466, 0.39392 , 0.6201  , 0.116514, 0.417895],\n",
       "       [0.64753 , 0.105188, 0.454503, 0.582855, 0.130908, 0.378557],\n",
       "       [0.631657, 0.105084, 0.438087, 0.581575, 0.107144, 0.371047],\n",
       "       [0.642772, 0.109736, 0.44525 , 0.550927, 0.130952, 0.340934],\n",
       "       [0.648738, 0.113165, 0.451358, 0.57155 , 0.144282, 0.371904],\n",
       "       [0.665846, 0.113301, 0.476174, 0.513326, 0.159862, 0.324701],\n",
       "       [0.632563, 0.127607, 0.444725, 0.568223, 0.134484, 0.376274],\n",
       "       [0.604263, 0.122203, 0.4118  , 0.565053, 0.140667, 0.3758  ],\n",
       "       [0.617469, 0.111361, 0.420288, 0.603001, 0.136047, 0.40453 ],\n",
       "       [0.64286 , 0.114732, 0.445103, 0.566442, 0.12435 , 0.368279],\n",
       "       [0.680055, 0.09466 , 0.500863, 0.538142, 0.136978, 0.340524],\n",
       "       [0.672128, 0.095892, 0.480859, 0.573837, 0.133854, 0.387734],\n",
       "       [0.66721 , 0.104855, 0.480506, 0.566812, 0.126324, 0.365073],\n",
       "       [0.679605, 0.115327, 0.493403, 0.602843, 0.123309, 0.424409],\n",
       "       [0.71592 , 0.094347, 0.534173, 0.645805, 0.091687, 0.456983]])"
      ]
     },
     "execution_count": 26,
     "metadata": {},
     "output_type": "execute_result"
    }
   ],
   "source": [
    "para"
   ]
  },
  {
   "cell_type": "code",
   "execution_count": 47,
   "id": "9c7c079b",
   "metadata": {},
   "outputs": [
    {
     "data": {
      "text/plain": [
       "[<matplotlib.lines.Line2D at 0x7fef0a19f6a0>]"
      ]
     },
     "execution_count": 47,
     "metadata": {},
     "output_type": "execute_result"
    },
    {
     "data": {
      "image/png": "[encoded data removed]",
      "text/plain": [
       "<Figure size 432x288 with 1 Axes>"
      ]
     },
     "metadata": {
      "needs_background": "light"
     },
     "output_type": "display_data"
    }
   ],
   "source": [
    "plt.plot(para[:, 0], 'ro-')\n",
    "plt.plot(para[:, 1], 'bo-')\n",
    "plt.plot(para[:, 2], 'ko-')\n",
    "plt.plot(para[:, 3], 'r--')\n",
    "plt.plot(para[:, 4], 'b--')\n",
    "plt.plot(para[:, 5], 'k--')"
   ]
  },
  {
   "cell_type": "code",
   "execution_count": 32,
   "id": "ea1633af",
   "metadata": {},
   "outputs": [
    {
     "data": {
      "text/plain": [
       "0.015390874999999998"
      ]
     },
     "execution_count": 32,
     "metadata": {},
     "output_type": "execute_result"
    }
   ],
   "source": [
    "np.mean(orient[:, 4])"
   ]
  },
  {
   "cell_type": "code",
   "execution_count": 48,
   "id": "1da1bcd0",
   "metadata": {},
   "outputs": [
    {
     "data": {
      "text/plain": [
       "array([[-2.52673e-01, -1.10137e-01,  3.62810e-01,  1.38370e-02,\n",
       "        -1.22740e-02, -1.56400e-03],\n",
       "       [-9.56230e-02,  1.36672e-01, -4.10490e-02, -2.01310e-02,\n",
       "         2.08150e-02, -6.84000e-04],\n",
       "       [ 1.10291e-01,  1.26757e-01, -2.37048e-01,  1.85390e-02,\n",
       "         3.29630e-02, -5.15020e-02],\n",
       "       [ 2.38295e-01, -1.88190e-01, -5.01050e-02,  7.21400e-03,\n",
       "        -6.57160e-02,  5.85020e-02],\n",
       "       [ 2.97080e-02, -1.96074e-01,  1.66366e-01,  5.51940e-02,\n",
       "        -3.27830e-02, -2.24100e-02],\n",
       "       [-2.03000e-02,  2.39970e-02, -3.69600e-03, -3.90000e-05,\n",
       "         5.92930e-02, -5.92540e-02],\n",
       "       [-4.04900e-02, -7.24110e-02,  1.12901e-01,  1.61069e-01,\n",
       "        -6.17200e-02, -9.93490e-02],\n",
       "       [-2.42960e-02,  6.25540e-02, -3.82580e-02,  3.88960e-02,\n",
       "         6.35100e-02, -1.02407e-01],\n",
       "       [-9.66730e-02,  2.54510e-02,  7.12220e-02,  8.85840e-02,\n",
       "        -7.43080e-02, -1.42760e-02],\n",
       "       [-5.65610e-02,  8.27820e-02, -2.62210e-02,  1.76910e-02,\n",
       "         7.05700e-03, -2.47480e-02],\n",
       "       [-7.59600e-03, -2.56550e-02,  3.32500e-02, -1.02484e-01,\n",
       "         1.53490e-01, -5.10060e-02],\n",
       "       [-1.90358e-01,  3.55640e-02,  1.54794e-01, -5.50010e-02,\n",
       "         6.05040e-02, -5.50400e-03],\n",
       "       [ 3.49040e-02, -1.69673e-01,  1.34769e-01, -3.38980e-02,\n",
       "         3.21660e-02,  1.73200e-03],\n",
       "       [-4.97360e-02, -9.91410e-02,  1.48878e-01, -8.12560e-02,\n",
       "        -5.96460e-02,  1.40902e-01],\n",
       "       [ 1.11900e-03, -5.95480e-02,  5.84290e-02, -2.85560e-02,\n",
       "        -4.90450e-02,  7.76010e-02],\n",
       "       [ 4.04200e-03, -9.17400e-03,  5.13100e-03,  6.44000e-03,\n",
       "        -5.95530e-02,  5.31120e-02],\n",
       "       [ 7.59180e-02, -2.92930e-02, -4.66250e-02,  3.37860e-02,\n",
       "        -3.14020e-02, -2.38400e-03],\n",
       "       [ 2.40040e-02, -2.26180e-02, -1.38500e-03,  6.76550e-02,\n",
       "         1.51770e-02, -8.28320e-02],\n",
       "       [-4.62300e-03, -2.01110e-02,  2.47340e-02, -5.23770e-02,\n",
       "         2.85000e-02,  2.38770e-02],\n",
       "       [ 3.36100e-03, -5.17000e-03,  1.81000e-03,  3.70100e-02,\n",
       "        -6.82600e-03, -3.01840e-02],\n",
       "       [ 3.23750e-02, -3.54200e-02,  3.04400e-03, -2.66480e-02,\n",
       "         4.48050e-02, -1.81570e-02],\n",
       "       [-1.22991e-01,  1.25810e-02,  1.10410e-01, -2.17740e-02,\n",
       "        -4.79080e-02,  6.96820e-02],\n",
       "       [-3.87200e-02,  3.40980e-02,  4.62200e-03, -4.12950e-02,\n",
       "         6.41560e-02, -2.28620e-02],\n",
       "       [-1.30130e-01,  2.32670e-01, -1.02540e-01, -7.46480e-02,\n",
       "        -7.79500e-03,  8.24440e-02],\n",
       "       [-4.20220e-02,  6.76180e-02, -2.55950e-02, -4.11200e-02,\n",
       "         1.76530e-02,  2.34660e-02],\n",
       "       [-1.34560e-02,  3.94950e-02, -2.60390e-02, -1.14028e-01,\n",
       "         9.01540e-02,  2.38740e-02],\n",
       "       [ 5.09340e-02,  4.10300e-02, -9.19640e-02, -6.02980e-02,\n",
       "        -2.42300e-03,  6.27210e-02],\n",
       "       [ 5.82970e-02, -4.31130e-02, -1.51830e-02,  8.75500e-03,\n",
       "         1.05664e-01, -1.14419e-01],\n",
       "       [ 5.78700e-02,  2.38100e-02, -8.16800e-02,  5.46740e-02,\n",
       "        -1.47072e-01,  9.23980e-02],\n",
       "       [ 1.74894e-01,  3.63000e-03, -1.78524e-01, -3.27900e-03,\n",
       "        -4.52030e-02,  4.84820e-02],\n",
       "       [ 1.11260e-02, -2.95110e-02,  1.83850e-02, -5.00640e-02,\n",
       "         7.91590e-02, -2.90950e-02],\n",
       "       [ 2.16730e-02, -4.30030e-02,  2.13300e-02, -3.84590e-02,\n",
       "         8.52610e-02, -4.68030e-02],\n",
       "       [ 4.95330e-02, -6.75800e-02,  1.80470e-02, -4.00400e-02,\n",
       "         7.25590e-02, -3.25190e-02],\n",
       "       [-4.08520e-02,  3.39900e-02,  6.86200e-03, -2.43310e-02,\n",
       "         1.36194e-01, -1.11863e-01],\n",
       "       [-4.92860e-02,  7.79530e-02, -2.86670e-02,  7.78000e-02,\n",
       "         1.76990e-02, -9.54990e-02],\n",
       "       [ 2.87680e-02,  1.08420e-02, -3.96110e-02, -4.48150e-02,\n",
       "         1.08167e-01, -6.33520e-02],\n",
       "       [ 1.12265e-01,  6.52070e-02, -1.77472e-01, -5.21030e-02,\n",
       "        -4.44460e-02,  9.65490e-02],\n",
       "       [ 7.70070e-02, -7.62540e-02, -7.52000e-04, -4.64850e-02,\n",
       "         6.95740e-02, -2.30890e-02],\n",
       "       [ 8.18280e-02, -5.09370e-02, -3.08910e-02, -9.30000e-03,\n",
       "         3.42630e-02, -2.49640e-02],\n",
       "       [ 4.90830e-02, -4.85060e-02, -5.77000e-04,  2.50770e-02,\n",
       "        -3.50280e-02,  9.95000e-03]])"
      ]
     },
     "execution_count": 48,
     "metadata": {},
     "output_type": "execute_result"
    }
   ],
   "source": [
    "orient"
   ]
  },
  {
   "cell_type": "code",
   "execution_count": 52,
   "id": "0cf7ac9d",
   "metadata": {},
   "outputs": [
    {
     "data": {
      "text/plain": [
       "[<matplotlib.lines.Line2D at 0x7fef0a13f700>]"
      ]
     },
     "execution_count": 52,
     "metadata": {},
     "output_type": "execute_result"
    },
    {
     "data": {
      "image/png": "[encoded data removed]",
      "text/plain": [
       "<Figure size 432x288 with 1 Axes>"
      ]
     },
     "metadata": {
      "needs_background": "light"
     },
     "output_type": "display_data"
    }
   ],
   "source": [
    "#plt.plot(orient[:, 0], 'r-')\n",
    "#plt.plot(orient[:, 1], 'b-')\n",
    "plt.plot(orient[:, 2], 'k-')\n",
    "#plt.plot(orient[:, 3], 'r--')\n",
    "#plt.plot(orient[:, 4], 'b--')\n",
    "plt.plot(orient[:, 5], 'k--')"
   ]
  },
  {
   "cell_type": "code",
   "execution_count": null,
   "id": "427b92ed",
   "metadata": {},
   "outputs": [],
   "source": []
  }
 ],
 "metadata": {
  "kernelspec": {
   "display_name": "Python 3",
   "language": "python",
   "name": "python3"
  },
  "language_info": {
   "codemirror_mode": {
    "name": "ipython",
    "version": 3
   },
   "file_extension": ".py",
   "mimetype": "text/x-python",
   "name": "python",
   "nbconvert_exporter": "python",
   "pygments_lexer": "ipython3",
   "version": "3.8.8"
  }
 },
 "nbformat": 4,
 "nbformat_minor": 5
}
